{
 "cells": [
  {
   "cell_type": "markdown",
   "id": "e0fa5bcf",
   "metadata": {},
   "source": [
    "## Importing Modules"
   ]
  },
  {
   "cell_type": "code",
   "execution_count": 1,
   "id": "70824808",
   "metadata": {},
   "outputs": [],
   "source": [
    "import googleFinance as gf"
   ]
  },
  {
   "cell_type": "code",
   "execution_count": 2,
   "id": "bfa8ad99",
   "metadata": {},
   "outputs": [
    {
     "data": {
      "text/plain": [
       "'₹399.10'"
      ]
     },
     "execution_count": 2,
     "metadata": {},
     "output_type": "execute_result"
    }
   ],
   "source": [
    "# Using getPrice to find the current price of a given stock (Use the Ticker Symbol of the Stock)\n",
    "gf.getPrice(\"WIPRO\")"
   ]
  },
  {
   "cell_type": "code",
   "execution_count": 3,
   "id": "f2e270fd",
   "metadata": {},
   "outputs": [
    {
     "name": "stdout",
     "output_type": "stream",
     "text": [
      "Wipro Limited\n"
     ]
    }
   ],
   "source": [
    "# Using searchSymbol to find the name of the company based on Ticker Symbol \n",
    "gf.searchSymbol(\"WIPRO\")"
   ]
  },
  {
   "cell_type": "code",
   "execution_count": 4,
   "id": "f61a3c66",
   "metadata": {
    "scrolled": true
   },
   "outputs": [],
   "source": [
    "# Using getAllPrice() to find current price of all the stocks listed on NSE (The Output Takes Some time so Only Use it if Needed)\n",
    "# Pass 'printOutput=True' or 'printOutput=False' (Note Printing Might Increase the Time for Execution)\n",
    "gf.getAllPrice(printOutput = False)"
   ]
  },
  {
   "cell_type": "code",
   "execution_count": 5,
   "id": "08005ec4",
   "metadata": {},
   "outputs": [
    {
     "data": {
      "text/html": [
       "<div>\n",
       "<style scoped>\n",
       "    .dataframe tbody tr th:only-of-type {\n",
       "        vertical-align: middle;\n",
       "    }\n",
       "\n",
       "    .dataframe tbody tr th {\n",
       "        vertical-align: top;\n",
       "    }\n",
       "\n",
       "    .dataframe thead th {\n",
       "        text-align: right;\n",
       "    }\n",
       "</style>\n",
       "<table border=\"1\" class=\"dataframe\">\n",
       "  <thead>\n",
       "    <tr style=\"text-align: right;\">\n",
       "      <th></th>\n",
       "      <th>Stats</th>\n",
       "      <th>Values</th>\n",
       "    </tr>\n",
       "  </thead>\n",
       "  <tbody>\n",
       "    <tr>\n",
       "      <th>0</th>\n",
       "      <td>PREVIOUS CLOSE</td>\n",
       "      <td>₹399.95</td>\n",
       "    </tr>\n",
       "    <tr>\n",
       "      <th>1</th>\n",
       "      <td>DAY range</td>\n",
       "      <td>₹396.55 - ₹402.85</td>\n",
       "    </tr>\n",
       "    <tr>\n",
       "      <th>2</th>\n",
       "      <td>YEAR RANGE</td>\n",
       "      <td>₹352.00 - ₹444.90</td>\n",
       "    </tr>\n",
       "    <tr>\n",
       "      <th>3</th>\n",
       "      <td>MARKET CAP</td>\n",
       "      <td>2.08T INR</td>\n",
       "    </tr>\n",
       "    <tr>\n",
       "      <th>4</th>\n",
       "      <td>P/E RATIO</td>\n",
       "      <td>18.88</td>\n",
       "    </tr>\n",
       "    <tr>\n",
       "      <th>5</th>\n",
       "      <td>DIVIDEND YIELD</td>\n",
       "      <td>0.25%</td>\n",
       "    </tr>\n",
       "    <tr>\n",
       "      <th>6</th>\n",
       "      <td>PRIMARY EXCHANGE</td>\n",
       "      <td>NSE</td>\n",
       "    </tr>\n",
       "  </tbody>\n",
       "</table>\n",
       "</div>"
      ],
      "text/plain": [
       "              Stats             Values\n",
       "0    PREVIOUS CLOSE            ₹399.95\n",
       "1         DAY range  ₹396.55 - ₹402.85\n",
       "2        YEAR RANGE  ₹352.00 - ₹444.90\n",
       "3        MARKET CAP          2.08T INR\n",
       "4         P/E RATIO              18.88\n",
       "5    DIVIDEND YIELD              0.25%\n",
       "6  PRIMARY EXCHANGE                NSE"
      ]
     },
     "execution_count": 5,
     "metadata": {},
     "output_type": "execute_result"
    }
   ],
   "source": [
    "## Get Company Stats \n",
    "gf.getCompanyStats(\"WIPRO\")"
   ]
  },
  {
   "cell_type": "code",
   "execution_count": 6,
   "id": "ec66ca43",
   "metadata": {
    "scrolled": true
   },
   "outputs": [
    {
     "data": {
      "text/plain": [
       "'NSE'"
      ]
     },
     "execution_count": 6,
     "metadata": {},
     "output_type": "execute_result"
    }
   ],
   "source": [
    "## Get Stock Previous Close \n",
    "gf.getPreviousClose(\"WIPRO\")\n",
    "\n",
    "## Get Stock Day Range\n",
    "gf.getDayRange(\"WIPRO\")\n",
    "\n",
    "## Get Stock Year Range \n",
    "gf.getYearRange(\"WIPRO\")\n",
    "\n",
    "## Get Stock Market Cap \n",
    "gf.getMarketCap(\"WIPRO\")\n",
    "\n",
    "## Get Stock P/E Ratio \n",
    "gf.getPERatio(\"WIPRO\")\n",
    "\n",
    "## Get Stock Dividend Yield\n",
    "gf.getDividendYield(\"WIPRO\")\n",
    "\n",
    "## Get Stock Primary Exchange \n",
    "gf.getPrimaryExchange(\"WIPRO\")"
   ]
  },
  {
   "cell_type": "code",
   "execution_count": null,
   "id": "8aa3d6f6",
   "metadata": {},
   "outputs": [],
   "source": []
  }
 ],
 "metadata": {
  "kernelspec": {
   "display_name": "Python 3 (ipykernel)",
   "language": "python",
   "name": "python3"
  },
  "language_info": {
   "codemirror_mode": {
    "name": "ipython",
    "version": 3
   },
   "file_extension": ".py",
   "mimetype": "text/x-python",
   "name": "python",
   "nbconvert_exporter": "python",
   "pygments_lexer": "ipython3",
   "version": "3.8.10"
  }
 },
 "nbformat": 4,
 "nbformat_minor": 5
}
